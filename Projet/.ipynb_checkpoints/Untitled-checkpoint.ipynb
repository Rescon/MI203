{
 "cells": [
  {
   "cell_type": "code",
   "execution_count": 1,
   "metadata": {},
   "outputs": [],
   "source": [
    "# This Python 3 environment comes with many helpful analytics libraries installed\n",
    "# It is defined by the kaggle/python Docker image: https://github.com/kaggle/docker-python\n",
    "# For example, here's several helpful packages to load\n",
    "\n",
    "import numpy as np # linear algebra\n",
    "import pandas as pd # data processing, CSV file I/O (e.g. pd.read_csv)\n",
    "\n",
    "# Input data files are available in the read-only \"../input/\" directory\n",
    "# For example, running this (by clicking run or pressing Shift+Enter) will list all files under the input directory\n",
    "\n",
    "#datadir = '/kaggle/input/multimodal-classification-2021-mi203'\n",
    "\n",
    "#import os\n",
    "'''\n",
    "for dirname, _, filenames in os.walk(datadir):\n",
    "    for filename in filenames:\n",
    "        print(os.path.join(dirname, filename))\n",
    "'''\n",
    "# You can write up to 20GB to the current directory (/kaggle/working/) that gets preserved as output when you create a version using \"Save & Run All\" \n",
    "# You can also write temporary files to /kaggle/temp/, but they won't be saved outside of the current session\n",
    "\n",
    "\n",
    "traindata = pd.read_csv('multimodal-classification-2021-mi203/data/data_train.csv', delimiter=',', nrows = None)\n",
    "data = np.array(traindata)\n",
    "\n",
    "y_train = data[:,-1].astype('int32')\n",
    "\n",
    "audio_train = data[:, 1:-1]\n",
    "\n",
    "trainimg_list = traindata['IMAGE']\n",
    "\n",
    "testdata = pd.read_csv('multimodal-classification-2021-mi203/data/data_test_novt.csv', delimiter=',', nrows = None)\n",
    "data = np.array(testdata)\n",
    "\n",
    "audio_test = np.array(data[:, 1:], dtype='float64')\n",
    "\n",
    "testimg_list = testdata['IMAGE']"
   ]
  },
  {
   "cell_type": "code",
   "execution_count": 2,
   "metadata": {},
   "outputs": [
    {
     "data": {
      "text/plain": [
       "(13802, 2048)"
      ]
     },
     "execution_count": 2,
     "metadata": {},
     "output_type": "execute_result"
    }
   ],
   "source": [
    "img_train = np.load(\"img_feat.npy\")\n",
    "img_train.shape"
   ]
  },
  {
   "cell_type": "code",
   "execution_count": 3,
   "metadata": {},
   "outputs": [
    {
     "data": {
      "text/plain": [
       "(13802, 104)"
      ]
     },
     "execution_count": 3,
     "metadata": {},
     "output_type": "execute_result"
    }
   ],
   "source": [
    "audio_train.shape"
   ]
  },
  {
   "cell_type": "code",
   "execution_count": 4,
   "metadata": {},
   "outputs": [
    {
     "data": {
      "text/plain": [
       "(3450, 2048)"
      ]
     },
     "execution_count": 4,
     "metadata": {},
     "output_type": "execute_result"
    }
   ],
   "source": [
    "img_test = np.load(\"img_test_feat.npy\")\n",
    "img_test.shape"
   ]
  },
  {
   "cell_type": "code",
   "execution_count": 5,
   "metadata": {},
   "outputs": [
    {
     "data": {
      "text/plain": [
       "(3450, 104)"
      ]
     },
     "execution_count": 5,
     "metadata": {},
     "output_type": "execute_result"
    }
   ],
   "source": [
    "audio_test.shape"
   ]
  },
  {
   "cell_type": "code",
   "execution_count": 6,
   "metadata": {},
   "outputs": [
    {
     "name": "stdout",
     "output_type": "stream",
     "text": [
      "[[-0.46832486 -0.32412811]\n",
      " [-2.51412711  0.38157085]\n",
      " [-3.68023336 -0.83169478]\n",
      " [ 1.02654997  1.03543813]\n",
      " [ 1.86619282  1.22473182]\n",
      " [ 3.76994255 -1.48591792]]\n"
     ]
    }
   ],
   "source": [
    "def pca(X,k):#k is the components you want\n",
    "    #mean of each feature\n",
    "    n_samples, n_features = X.shape\n",
    "    mean=np.array([np.mean(X[:,i]) for i in range(n_features)])\n",
    "    #normalization\n",
    "    norm_X=X-mean\n",
    "    #scatter matrix\n",
    "    scatter_matrix=np.dot(np.transpose(norm_X),norm_X)\n",
    "    #Calculate the eigenvectors and eigenvalues\n",
    "    eig_val, eig_vec = np.linalg.eig(scatter_matrix)\n",
    "    eig_pairs = [(np.abs(eig_val[i]), eig_vec[:,i]) for i in range(n_features)]\n",
    "    # sort eig_vec based on eig_val from highest to lowest\n",
    "    eig_pairs.sort(reverse=True)\n",
    "    # select the top k eig_vec\n",
    "    feature=np.array([ele[1] for ele in eig_pairs[:k]])\n",
    "    #get new data\n",
    "    data=np.dot(norm_X,np.transpose(feature))\n",
    "    return data\n",
    "\n",
    "X = np.array([[-1, 1, 1], [-2, -1, 2], [-3, -2, 1], [1, 1, 2], [2, 1, 2], [3, 2, -1]])\n",
    "\n",
    "print(pca(X,2))"
   ]
  },
  {
   "cell_type": "code",
   "execution_count": 7,
   "metadata": {},
   "outputs": [
    {
     "data": {
      "text/plain": [
       "(13802, 200)"
      ]
     },
     "execution_count": 7,
     "metadata": {},
     "output_type": "execute_result"
    }
   ],
   "source": [
    "img_train_pca = pca(img_train,200)\n",
    "img_train_pca.shape"
   ]
  },
  {
   "cell_type": "code",
   "execution_count": 8,
   "metadata": {},
   "outputs": [
    {
     "data": {
      "text/plain": [
       "(3450, 200)"
      ]
     },
     "execution_count": 8,
     "metadata": {},
     "output_type": "execute_result"
    }
   ],
   "source": [
    "img_test_pca = pca(img_test,200)\n",
    "img_test_pca.shape"
   ]
  },
  {
   "cell_type": "code",
   "execution_count": 9,
   "metadata": {},
   "outputs": [
    {
     "data": {
      "text/plain": [
       "(3450, 304)"
      ]
     },
     "execution_count": 9,
     "metadata": {},
     "output_type": "execute_result"
    }
   ],
   "source": [
    "img_audio_test = np.hstack([img_test_pca,audio_test])\n",
    "img_audio_test.shape"
   ]
  },
  {
   "cell_type": "code",
   "execution_count": 10,
   "metadata": {},
   "outputs": [
    {
     "data": {
      "text/plain": [
       "(13802, 304)"
      ]
     },
     "execution_count": 10,
     "metadata": {},
     "output_type": "execute_result"
    }
   ],
   "source": [
    "img_audio_train = np.hstack([img_train_pca,audio_train])\n",
    "img_audio_train.shape"
   ]
  },
  {
   "cell_type": "code",
   "execution_count": 11,
   "metadata": {},
   "outputs": [
    {
     "name": "stdout",
     "output_type": "stream",
     "text": [
      "[LibSVM]Taux de reco = 100.00% / 99.59%\n"
     ]
    }
   ],
   "source": [
    "import numpy as np\n",
    "import matplotlib.pyplot as plt\n",
    "import random\n",
    "\n",
    "# Pour séparer les données en apprentissage et test\n",
    "from sklearn.model_selection import train_test_split\n",
    "\n",
    "# A REMPLIR!!!\n",
    "from sklearn import preprocessing\n",
    "\n",
    "scaler = preprocessing.StandardScaler().fit(img_audio_train)\n",
    "\n",
    "img_audio_train_scaled = scaler.transform(img_audio_train)\n",
    "\n",
    "Xn, Xv, yn, yv = train_test_split(img_audio_train_scaled, y_train,\n",
    "                                                    random_state=42,\n",
    "                                                    test_size=0.5)\n",
    "\n",
    "from sklearn import svm\n",
    "\n",
    "\n",
    "\n",
    "\n",
    "\n",
    "svc = svm.SVC(C=10, kernel='rbf', max_iter=-1, verbose = True, gamma = 'auto')\n",
    "\n",
    "svc.fit(Xn, yn)\n",
    "\n",
    "score_train = svc.score(Xn, yn)\n",
    "score_test = svc.score(Xv, yv)\n",
    "\n",
    "print(\"Taux de reco = {:.2f}% / {:.2f}%\".format(score_train*100, score_test*100))"
   ]
  },
  {
   "cell_type": "code",
   "execution_count": 12,
   "metadata": {},
   "outputs": [
    {
     "name": "stdout",
     "output_type": "stream",
     "text": [
      "[0 1 4 ... 1 7 1]\n"
     ]
    }
   ],
   "source": [
    "y_pred = svc.predict(scaler.transform(img_audio_test))\n",
    "print(y_pred)"
   ]
  },
  {
   "cell_type": "code",
   "execution_count": 13,
   "metadata": {},
   "outputs": [],
   "source": [
    "submission = pd.DataFrame({'CLASS':y_pred})\n",
    "submission=submission.reset_index()\n",
    "submission = submission.rename(columns={'index': 'Id'})\n",
    "\n",
    "#======================================================================\n",
    "# Sauvegarde du fichier\n",
    "submission.to_csv('submission.csv', index=False)"
   ]
  },
  {
   "cell_type": "code",
   "execution_count": 14,
   "metadata": {},
   "outputs": [],
   "source": [
    "train_pred = svc.predict(scaler.transform(img_audio_train))"
   ]
  },
  {
   "cell_type": "code",
   "execution_count": 15,
   "metadata": {},
   "outputs": [
    {
     "data": {
      "text/plain": [
       "array([3, 0, 3, ..., 1, 3, 4], dtype=int32)"
      ]
     },
     "execution_count": 15,
     "metadata": {},
     "output_type": "execute_result"
    }
   ],
   "source": [
    "train_pred"
   ]
  },
  {
   "cell_type": "code",
   "execution_count": 16,
   "metadata": {},
   "outputs": [
    {
     "data": {
      "text/plain": [
       "array([3, 0, 3, ..., 1, 3, 6], dtype=int32)"
      ]
     },
     "execution_count": 16,
     "metadata": {},
     "output_type": "execute_result"
    }
   ],
   "source": [
    "y_train"
   ]
  },
  {
   "cell_type": "code",
   "execution_count": 17,
   "metadata": {},
   "outputs": [],
   "source": [
    "temp = train_pred[train_pred == y_train]"
   ]
  },
  {
   "cell_type": "code",
   "execution_count": 18,
   "metadata": {},
   "outputs": [
    {
     "data": {
      "text/plain": [
       "(13774,)"
      ]
     },
     "execution_count": 18,
     "metadata": {},
     "output_type": "execute_result"
    }
   ],
   "source": [
    "temp.shape"
   ]
  },
  {
   "cell_type": "code",
   "execution_count": 19,
   "metadata": {},
   "outputs": [],
   "source": [
    "from sklearn.metrics import confusion_matrix"
   ]
  },
  {
   "cell_type": "code",
   "execution_count": 20,
   "metadata": {},
   "outputs": [
    {
     "data": {
      "text/plain": [
       "array([[1106,    0,    0,    0,    0,    0,    0,    0,    0],\n",
       "       [   0, 1914,    0,    1,    1,    0,    0,    1,    3],\n",
       "       [   0,    0, 1656,    0,    0,    0,    0,    0,    0],\n",
       "       [   0,    2,    0, 2209,    0,    0,    0,    1,    0],\n",
       "       [   0,    2,    0,    0, 1653,    0,    2,    1,    0],\n",
       "       [   0,    0,    0,    0,    0, 1118,    0,    0,    0],\n",
       "       [   0,    1,    0,    1,    4,    0, 1162,    0,    0],\n",
       "       [   1,    1,    0,    0,    2,    0,    3, 1684,    1],\n",
       "       [   0,    0,    0,    0,    0,    0,    0,    0, 1272]])"
      ]
     },
     "execution_count": 20,
     "metadata": {},
     "output_type": "execute_result"
    }
   ],
   "source": [
    "confusion_matrix(train_pred,y_train)"
   ]
  },
  {
   "cell_type": "code",
   "execution_count": null,
   "metadata": {},
   "outputs": [],
   "source": []
  }
 ],
 "metadata": {
  "kernelspec": {
   "display_name": "Python 3",
   "language": "python",
   "name": "python3"
  },
  "language_info": {
   "codemirror_mode": {
    "name": "ipython",
    "version": 3
   },
   "file_extension": ".py",
   "mimetype": "text/x-python",
   "name": "python",
   "nbconvert_exporter": "python",
   "pygments_lexer": "ipython3",
   "version": "3.8.5"
  }
 },
 "nbformat": 4,
 "nbformat_minor": 4
}
