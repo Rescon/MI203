{
 "cells": [
  {
   "cell_type": "markdown",
   "metadata": {
    "id": "ksmC-Zwx0_tS"
   },
   "source": [
    "# TD: prédiction du vote 2016 aux Etats-Unis par arbres de décisions et méthodes ensemblistes\n",
    "\n",
    "La séance d'aujourd'hui porte sur la prévision du vote en 2016 aux États-Unis. Précisément, les données d'un recensement sont fournies avec diverses informations par comté à travers les États-Unis. L'objectif est de construire des prédicteurs de leur couleur politique (républicain ou démocrate) à partir de ces données."
   ]
  },
  {
   "cell_type": "markdown",
   "metadata": {
    "id": "kbPqcu_Lhfjp"
   },
   "source": [
    "Exécuter les commandes suivantes pour charger l'environnement."
   ]
  },
  {
   "cell_type": "code",
   "execution_count": 1,
   "metadata": {
    "id": "X-foHxal1Ops"
   },
   "outputs": [],
   "source": [
    "%matplotlib inline\n",
    "from pylab import *\n",
    "import numpy as np\n",
    "import os\n",
    "import random\n",
    "import matplotlib.pyplot as plt"
   ]
  },
  {
   "cell_type": "markdown",
   "metadata": {
    "id": "W6D1aUcuQ9ff"
   },
   "source": [
    "# Accès aux données\n",
    "\n",
    "* Elles sont disponibles sur le eCampus ou sur TEAMS\n",
    "* Charger le fichier the combined_data.csv sur votre drive puis monter le depuis colab\n"
   ]
  },
  {
   "cell_type": "code",
   "execution_count": 2,
   "metadata": {
    "id": "ISKHiOpYuiWR"
   },
   "outputs": [],
   "source": [
    "import pandas as pd\n",
    "\n",
    "census_data = pd.read_csv('combined_data.csv')"
   ]
  },
  {
   "cell_type": "markdown",
   "metadata": {
    "id": "v3QJtATomOgi"
   },
   "source": [
    "# Analyse préliminaire des données\n",
    "\n",
    "Les données sont organisées en champs:\n",
    "* fips = code du comté à 5 chiffres, le premier ou les deux premiers chiffres indiquent l'état.\n",
    "* votes = nombre de votants\n",
    "* etc..\n",
    "\n",
    "Regarder leur structure, quantité, nature.\n",
    "\n",
    "Où se trouvent les informations pour former les ensembles d'apprentissage et de test?\n",
    "\n",
    "Où se trouvent les classes à prédire?\n",
    "\n",
    "Visualiser quelques distributions.\n",
    "\n",
    "Le format de données python est décrit ici:\n",
    "https://pandas.pydata.org/pandas-docs/stable/reference/frame.html\n"
   ]
  },
  {
   "cell_type": "code",
   "execution_count": 3,
   "metadata": {
    "colab": {
     "base_uri": "https://localhost:8080/",
     "height": 248
    },
    "executionInfo": {
     "elapsed": 556,
     "status": "error",
     "timestamp": 1579869593670,
     "user": {
      "displayName": "Stéphane Herbin",
      "photoUrl": "",
      "userId": "09364083353920886752"
     },
     "user_tz": -60
    },
    "id": "yAk8Da4lvlQq",
    "outputId": "a446354d-da2d-4fd2-e811-1daaef33d452"
   },
   "outputs": [
    {
     "name": "stdout",
     "output_type": "stream",
     "text": [
      "Nombre de données = 3145\n",
      "Nombre d'attributs utiles = 76\n"
     ]
    }
   ],
   "source": [
    "# Exemples de moyens d'accéder aux caractéristiques des données\n",
    "#print(census_data.shape )\n",
    "#print(census_data.columns.values) \n",
    "#census_data.head()\n",
    "#print(census_data['fips'])\n",
    "#print(census_data.head(3))\n",
    "\n",
    "#iattr = 10\n",
    "#attrname = census_data.columns[iattr]\n",
    "#print(\"Mean of {} is {:.1f}\".format(attrname,np.array(census_data[attrname]).mean()))\n",
    "\n",
    "print(\"Nombre de données = {}\".format(census_data.shape[0])) # à modifier\n",
    "print(\"Nombre d'attributs utiles = {}\".format(census_data.shape[1]-2)) # à modifier"
   ]
  },
  {
   "cell_type": "markdown",
   "metadata": {
    "id": "cFcoVcNqDL-P"
   },
   "source": [
    "La classe à prédire ('Democrat') n'est décrite que par un seul attribut binaire.\n",
    "Calculer la répartition des couleurs politiques (quel est a priori la probabilité qu'un comté soit démocrate vs. républicain)"
   ]
  },
  {
   "cell_type": "code",
   "execution_count": 4,
   "metadata": {},
   "outputs": [
    {
     "name": "stdout",
     "output_type": "stream",
     "text": [
      "Attribut0 est Catholic\n",
      "Attribut1 est Protestant Denomination\n"
     ]
    }
   ],
   "source": [
    "iattr = 10\n",
    "attrname0 = census_data.columns[iattr]\n",
    "feat1 = census_data[attrname0]\n",
    "print(\"Attribut0 est {}\".format(attrname0))\n",
    "\n",
    "iattr = 23\n",
    "attrname1 = census_data.columns[iattr]\n",
    "feat2 = census_data[attrname1]\n",
    "print(\"Attribut1 est {}\".format(attrname1))\n",
    "\n",
    "data = vstack((feat1, feat2)).transpose()\n",
    "y_train = census_data['Democrat'].values"
   ]
  },
  {
   "cell_type": "code",
   "execution_count": 5,
   "metadata": {},
   "outputs": [
    {
     "data": {
      "image/png": "[encoded data removed]",
      "text/plain": [
       "<Figure size 576x432 with 1 Axes>"
      ]
     },
     "metadata": {
      "needs_background": "light"
     },
     "output_type": "display_data"
    }
   ],
   "source": [
    "# Pour visualiser  les données\n",
    "def show_data_2D(X,Y):\n",
    "    np.unique(Y)\n",
    "    fig, ax = plt.subplots(figsize=(8, 6))\n",
    "    for id in np.unique(Y):\n",
    "        idpositive=np.nonzero(Y == id)[0]\n",
    "        ax.scatter(X[idpositive,0], X[idpositive,1], s=50)\n",
    "\n",
    "show_data_2D(data, y_train)\n",
    "plt.show()"
   ]
  },
  {
   "cell_type": "code",
   "execution_count": 6,
   "metadata": {},
   "outputs": [
    {
     "data": {
      "image/png": "[encoded data removed]",
      "text/plain": [
       "<Figure size 432x288 with 1 Axes>"
      ]
     },
     "metadata": {
      "needs_background": "light"
     },
     "output_type": "display_data"
    }
   ],
   "source": [
    "import matplotlib.pyplot as plt\n",
    "\n",
    "X0 = data[y_train == 0,:]\n",
    "X1 = data[y_train == 1,:]\n",
    "\n",
    "plt.hist([X0, X1], color=['b','g'], alpha=0.5, bins=20, label=['Rep','Dem'], density=True)\n",
    "plt.legend(loc='upper right')\n",
    "plt.show()"
   ]
  },
  {
   "cell_type": "code",
   "execution_count": 7,
   "metadata": {
    "colab": {
     "base_uri": "https://localhost:8080/",
     "height": 35
    },
    "executionInfo": {
     "elapsed": 684,
     "status": "ok",
     "timestamp": 1579854889094,
     "user": {
      "displayName": "Stéphane Herbin",
      "photoUrl": "",
      "userId": "09364083353920886752"
     },
     "user_tz": -60
    },
    "id": "vks9-75MrFQT",
    "outputId": "587c4e66-45ca-4a0f-84df-92ccac02f31a"
   },
   "outputs": [
    {
     "name": "stdout",
     "output_type": "stream",
     "text": [
      "La probabilité qu'un comté soit démocrate est de 15.45%%\n"
     ]
    }
   ],
   "source": [
    "results = census_data['Democrat']\n",
    "proba_dem = results.mean()\n",
    "proba_rep = 1 - proba_dem\n",
    "\n",
    "\n",
    "print(\"La probabilité qu'un comté soit démocrate est de {:.2f}%%\".format(100*proba_dem))\n"
   ]
  },
  {
   "cell_type": "markdown",
   "metadata": {
    "id": "7zrNDQFDc4uB"
   },
   "source": [
    "# Préparation du chantier d'apprentissage\n",
    "\n",
    "On va préparer les ensembles d'apprentissage et de test. \n",
    "\n",
    "Pour éviter des problèmes de format de données, on choisit une liste d'attributs utiles dans la liste \"feature_cols\" ci dessous.\n",
    "\n",
    "L'ensemble de test sera constitué des comtés d'un seul état.\n",
    "\n",
    "Info: https://scikit-learn.org/stable/model_selection.html\n",
    "\n",
    "Liste des états et leurs codes FIPS code (2 digits):\n",
    "https://en.wikipedia.org/wiki/Federal_Information_Processing_Standard_state_code\n",
    "\n"
   ]
  },
  {
   "cell_type": "code",
   "execution_count": 8,
   "metadata": {
    "id": "SOrtFFPHT_Pi"
   },
   "outputs": [],
   "source": [
    "## Sous ensembles d'attributs informatifs pour la suite\n",
    "\n",
    "feature_cols = ['BLACK_FEMALE_rate', \n",
    "                'BLACK_MALE_rate',\n",
    "                'Percent of adults with a bachelor\\'s degree or higher, 2011-2015',\n",
    "                'ASIAN_MALE_rate',\n",
    "                'ASIAN_FEMALE_rate',\n",
    "                '25-29_rate',\n",
    "                'age_total_pop',\n",
    "                '20-24_rate',\n",
    "                'Deep_Pov_All',\n",
    "                '30-34_rate',\n",
    "                'Density per square mile of land area - Population',\n",
    "                'Density per square mile of land area - Housing units',\n",
    "                'Unemployment_rate_2015',\n",
    "                'Deep_Pov_Children',\n",
    "                'PovertyAllAgesPct2014',\n",
    "                'TOT_FEMALE_rate',\n",
    "                'PerCapitaInc',\n",
    "                'MULTI_FEMALE_rate',\n",
    "                '35-39_rate',\n",
    "                'MULTI_MALE_rate',\n",
    "                'Percent of adults completing some college or associate\\'s degree, 2011-2015',\n",
    "                '60-64_rate',\n",
    "                '55-59_rate',\n",
    "                '65-69_rate',\n",
    "                'TOT_MALE_rate',\n",
    "                '85+_rate',\n",
    "                '70-74_rate',\n",
    "                '80-84_rate',\n",
    "                '75-79_rate',\n",
    "                'Percent of adults with a high school diploma only, 2011-2015',\n",
    "                'WHITE_FEMALE_rate',\n",
    "                'WHITE_MALE_rate',\n",
    "                'Amish',\n",
    "                'Buddhist',\n",
    "                'Catholic',\n",
    "                'Christian Generic',\n",
    "                'Eastern Orthodox',\n",
    "                'Hindu',\n",
    "                'Jewish',\n",
    "                'Mainline Christian',\n",
    "                'Mormon',\n",
    "                'Muslim',\n",
    "                'Non-Catholic Christian',\n",
    "                'Other',\n",
    "                'Other Christian',\n",
    "                'Other Misc',\n",
    "                'Pentecostal / Charismatic',\n",
    "                'Protestant Denomination',\n",
    "                'Zoroastrian']\n"
   ]
  },
  {
   "cell_type": "code",
   "execution_count": 9,
   "metadata": {
    "colab": {
     "base_uri": "https://localhost:8080/",
     "height": 164
    },
    "executionInfo": {
     "elapsed": 685,
     "status": "ok",
     "timestamp": 1579868633708,
     "user": {
      "displayName": "Stéphane Herbin",
      "photoUrl": "",
      "userId": "09364083353920886752"
     },
     "user_tz": -60
    },
    "id": "C1UqAsUQg1_a",
    "outputId": "4764766e-8584-412f-ab1e-edbf837ce8bc"
   },
   "outputs": [],
   "source": [
    "## 1-state test split\n",
    "\n",
    "def county_data(census_data, fips_code):\n",
    "  #fips_code 48=Texas, 34=New Jersey, 31=Nebraska, 17=Illinois, 06=California, 36=New York\n",
    "  mask = census_data['fips'].between(fips_code*1000, fips_code*1000 + 999)\n",
    "  census_data_train = census_data[~mask]\n",
    "  census_data_test = census_data[mask]\n",
    "\n",
    "\n",
    "  XTrain = census_data_train[feature_cols]\n",
    "  yTrain = census_data_train['Democrat']\n",
    "  XTest = census_data_test[feature_cols]\n",
    "  yTest = census_data_test['Democrat']\n",
    "\n",
    "  return XTrain, yTrain, XTest, yTest\n",
    "\n",
    "STATE_FIPS_CODE = 17\n",
    "X_train, y_train, X_test, y_test = county_data(census_data, STATE_FIPS_CODE)"
   ]
  },
  {
   "cell_type": "markdown",
   "metadata": {
    "id": "TaLx1whAl2oS"
   },
   "source": [
    "\n",
    "# Apprentissage d'un arbre de décision\n",
    "\n",
    "On utilisera la bibliothèque scikit learn \n",
    "\n",
    "* Construire l'arbre sur les données d'entrainement\n",
    "* Prédire le vote sur les comtés de test\n",
    "* Calculer l'erreur et la matrice de confusion\n",
    "\n",
    "Faire varier certains paramètres (profondeur max, pureté, critère...) et visualisez leur influence.\n",
    "\n",
    "\n",
    "Info: https://scikit-learn.org/stable/modules/tree.html\n",
    "\n",
    "Info: https://scikit-learn.org/stable/modules/model_evaluation.html\n"
   ]
  },
  {
   "cell_type": "code",
   "execution_count": 17,
   "metadata": {
    "id": "iY-WE9EQenH8"
   },
   "outputs": [
    {
     "name": "stdout",
     "output_type": "stream",
     "text": [
      "DecisionTreeClassifier(max_depth=2, min_samples_split=50)\n",
      "train score: 0.914229378902399\n",
      "test score: 0.9215686274509803\n"
     ]
    }
   ],
   "source": [
    "from sklearn import tree\n",
    "\n",
    "clf = tree.DecisionTreeClassifier(criterion=\"gini\",max_depth=2,min_samples_split=50, splitter=\"best\")\n",
    "clf = clf.fit( X_train, y_train )\n",
    "\n",
    "print(clf)\n",
    "print(\"train score:\", clf.score(X_train, y_train))\n",
    "print(\"test score:\", clf.score(X_test, y_test))"
   ]
  },
  {
   "cell_type": "markdown",
   "metadata": {
    "id": "UqWBzMtwc2K8"
   },
   "source": [
    "Les instructions suivantes permettent de visualiser l'arbre.\n",
    "Interpréter le contenu de la représentation."
   ]
  },
  {
   "cell_type": "code",
   "execution_count": 18,
   "metadata": {
    "colab": {
     "base_uri": "https://localhost:8080/",
     "height": 776
    },
    "executionInfo": {
     "elapsed": 969,
     "status": "ok",
     "timestamp": 1579854918636,
     "user": {
      "displayName": "Stéphane Herbin",
      "photoUrl": "",
      "userId": "09364083353920886752"
     },
     "user_tz": -60
    },
    "id": "aaqZalJ6mOya",
    "outputId": "decd83cb-e3fd-41a7-97cb-9ff40f65a784"
   },
   "outputs": [
    {
     "data": {
      "image/svg+xml": [
       "<?xml version=\"1.0\" encoding=\"UTF-8\" standalone=\"no\"?>\n",
       "<!DOCTYPE svg PUBLIC \"-//W3C//DTD SVG 1.1//EN\"\n",
       " \"http://www.w3.org/Graphics/SVG/1.1/DTD/svg11.dtd\">\n",
       "<!-- Generated by graphviz version 2.46.0 (20210118.1747)\n",
       " -->\n",
       "<!-- Title: Tree Pages: 1 -->\n",
       "<svg width=\"555pt\" height=\"314pt\"\n",
       " viewBox=\"0.00 0.00 554.50 314.00\" xmlns=\"http://www.w3.org/2000/svg\" xmlns:xlink=\"http://www.w3.org/1999/xlink\">\n",
       "<g id=\"graph0\" class=\"graph\" transform=\"scale(1 1) rotate(0) translate(4 310)\">\n",
       "<title>Tree</title>\n",
       "<polygon fill=\"white\" stroke=\"transparent\" points=\"-4,4 -4,-310 550.5,-310 550.5,4 -4,4\"/>\n",
       "<!-- 0 -->\n",
       "<g id=\"node1\" class=\"node\">\n",
       "<title>0</title>\n",
       "<path fill=\"#ea985e\" stroke=\"black\" d=\"M333.5,-306C333.5,-306 225.5,-306 225.5,-306 219.5,-306 213.5,-300 213.5,-294 213.5,-294 213.5,-235 213.5,-235 213.5,-229 219.5,-223 225.5,-223 225.5,-223 333.5,-223 333.5,-223 339.5,-223 345.5,-229 345.5,-235 345.5,-235 345.5,-294 345.5,-294 345.5,-300 339.5,-306 333.5,-306\"/>\n",
       "<text text-anchor=\"start\" x=\"241.5\" y=\"-290.8\" font-family=\"Helvetica,sans-Serif\" font-size=\"14.00\">Jewish ≤ 1.5</text>\n",
       "<text text-anchor=\"start\" x=\"244\" y=\"-275.8\" font-family=\"Helvetica,sans-Serif\" font-size=\"14.00\">gini = 0.263</text>\n",
       "<text text-anchor=\"start\" x=\"231\" y=\"-260.8\" font-family=\"Helvetica,sans-Serif\" font-size=\"14.00\">samples = 3043</text>\n",
       "<text text-anchor=\"start\" x=\"221.5\" y=\"-245.8\" font-family=\"Helvetica,sans-Serif\" font-size=\"14.00\">value = [2568, 475]</text>\n",
       "<text text-anchor=\"start\" x=\"251\" y=\"-230.8\" font-family=\"Helvetica,sans-Serif\" font-size=\"14.00\">class = R</text>\n",
       "</g>\n",
       "<!-- 1 -->\n",
       "<g id=\"node2\" class=\"node\">\n",
       "<title>1</title>\n",
       "<path fill=\"#e88f4f\" stroke=\"black\" d=\"M270.5,-187C270.5,-187 116.5,-187 116.5,-187 110.5,-187 104.5,-181 104.5,-175 104.5,-175 104.5,-116 104.5,-116 104.5,-110 110.5,-104 116.5,-104 116.5,-104 270.5,-104 270.5,-104 276.5,-104 282.5,-110 282.5,-116 282.5,-116 282.5,-175 282.5,-175 282.5,-181 276.5,-187 270.5,-187\"/>\n",
       "<text text-anchor=\"start\" x=\"112.5\" y=\"-171.8\" font-family=\"Helvetica,sans-Serif\" font-size=\"14.00\">WHITE_MALE_rate ≤ 0.25</text>\n",
       "<text text-anchor=\"start\" x=\"161.5\" y=\"-156.8\" font-family=\"Helvetica,sans-Serif\" font-size=\"14.00\">gini = 0.18</text>\n",
       "<text text-anchor=\"start\" x=\"145\" y=\"-141.8\" font-family=\"Helvetica,sans-Serif\" font-size=\"14.00\">samples = 2752</text>\n",
       "<text text-anchor=\"start\" x=\"135.5\" y=\"-126.8\" font-family=\"Helvetica,sans-Serif\" font-size=\"14.00\">value = [2477, 275]</text>\n",
       "<text text-anchor=\"start\" x=\"165\" y=\"-111.8\" font-family=\"Helvetica,sans-Serif\" font-size=\"14.00\">class = R</text>\n",
       "</g>\n",
       "<!-- 0&#45;&gt;1 -->\n",
       "<g id=\"edge1\" class=\"edge\">\n",
       "<title>0&#45;&gt;1</title>\n",
       "<path fill=\"none\" stroke=\"black\" d=\"M249.66,-222.91C243.13,-214.01 236.14,-204.51 229.39,-195.33\"/>\n",
       "<polygon fill=\"black\" stroke=\"black\" points=\"232.03,-193.01 223.28,-187.02 226.39,-197.15 232.03,-193.01\"/>\n",
       "<text text-anchor=\"middle\" x=\"219.51\" y=\"-208.03\" font-family=\"Helvetica,sans-Serif\" font-size=\"14.00\">True</text>\n",
       "</g>\n",
       "<!-- 4 -->\n",
       "<g id=\"node5\" class=\"node\">\n",
       "<title>4</title>\n",
       "<path fill=\"#93caf1\" stroke=\"black\" d=\"M420,-187C420,-187 313,-187 313,-187 307,-187 301,-181 301,-175 301,-175 301,-116 301,-116 301,-110 307,-104 313,-104 313,-104 420,-104 420,-104 426,-104 432,-110 432,-116 432,-116 432,-175 432,-175 432,-181 426,-187 420,-187\"/>\n",
       "<text text-anchor=\"start\" x=\"309\" y=\"-171.8\" font-family=\"Helvetica,sans-Serif\" font-size=\"14.00\">70&#45;74_rate ≤ 0.037</text>\n",
       "<text text-anchor=\"start\" x=\"334.5\" y=\"-156.8\" font-family=\"Helvetica,sans-Serif\" font-size=\"14.00\">gini = 0.43</text>\n",
       "<text text-anchor=\"start\" x=\"321.5\" y=\"-141.8\" font-family=\"Helvetica,sans-Serif\" font-size=\"14.00\">samples = 291</text>\n",
       "<text text-anchor=\"start\" x=\"316\" y=\"-126.8\" font-family=\"Helvetica,sans-Serif\" font-size=\"14.00\">value = [91, 200]</text>\n",
       "<text text-anchor=\"start\" x=\"338\" y=\"-111.8\" font-family=\"Helvetica,sans-Serif\" font-size=\"14.00\">class = D</text>\n",
       "</g>\n",
       "<!-- 0&#45;&gt;4 -->\n",
       "<g id=\"edge4\" class=\"edge\">\n",
       "<title>0&#45;&gt;4</title>\n",
       "<path fill=\"none\" stroke=\"black\" d=\"M309.68,-222.91C316.36,-213.92 323.51,-204.32 330.4,-195.05\"/>\n",
       "<polygon fill=\"black\" stroke=\"black\" points=\"333.21,-197.13 336.37,-187.02 327.59,-192.96 333.21,-197.13\"/>\n",
       "<text text-anchor=\"middle\" x=\"340.01\" y=\"-208.05\" font-family=\"Helvetica,sans-Serif\" font-size=\"14.00\">False</text>\n",
       "</g>\n",
       "<!-- 2 -->\n",
       "<g id=\"node3\" class=\"node\">\n",
       "<title>2</title>\n",
       "<path fill=\"#59ade9\" stroke=\"black\" d=\"M105,-68C105,-68 12,-68 12,-68 6,-68 0,-62 0,-56 0,-56 0,-12 0,-12 0,-6 6,0 12,0 12,0 105,0 105,0 111,0 117,-6 117,-12 117,-12 117,-56 117,-56 117,-62 111,-68 105,-68\"/>\n",
       "<text text-anchor=\"start\" x=\"26.5\" y=\"-52.8\" font-family=\"Helvetica,sans-Serif\" font-size=\"14.00\">gini = 0.24</text>\n",
       "<text text-anchor=\"start\" x=\"13.5\" y=\"-37.8\" font-family=\"Helvetica,sans-Serif\" font-size=\"14.00\">samples = 122</text>\n",
       "<text text-anchor=\"start\" x=\"8\" y=\"-22.8\" font-family=\"Helvetica,sans-Serif\" font-size=\"14.00\">value = [17, 105]</text>\n",
       "<text text-anchor=\"start\" x=\"30\" y=\"-7.8\" font-family=\"Helvetica,sans-Serif\" font-size=\"14.00\">class = D</text>\n",
       "</g>\n",
       "<!-- 1&#45;&gt;2 -->\n",
       "<g id=\"edge2\" class=\"edge\">\n",
       "<title>1&#45;&gt;2</title>\n",
       "<path fill=\"none\" stroke=\"black\" d=\"M143.23,-103.73C131.54,-94.24 119.1,-84.16 107.46,-74.72\"/>\n",
       "<polygon fill=\"black\" stroke=\"black\" points=\"109.53,-71.88 99.55,-68.3 105.12,-77.32 109.53,-71.88\"/>\n",
       "</g>\n",
       "<!-- 3 -->\n",
       "<g id=\"node4\" class=\"node\">\n",
       "<title>3</title>\n",
       "<path fill=\"#e78a47\" stroke=\"black\" d=\"M255.5,-68C255.5,-68 147.5,-68 147.5,-68 141.5,-68 135.5,-62 135.5,-56 135.5,-56 135.5,-12 135.5,-12 135.5,-6 141.5,0 147.5,0 147.5,0 255.5,0 255.5,0 261.5,0 267.5,-6 267.5,-12 267.5,-12 267.5,-56 267.5,-56 267.5,-62 261.5,-68 255.5,-68\"/>\n",
       "<text text-anchor=\"start\" x=\"166\" y=\"-52.8\" font-family=\"Helvetica,sans-Serif\" font-size=\"14.00\">gini = 0.121</text>\n",
       "<text text-anchor=\"start\" x=\"153\" y=\"-37.8\" font-family=\"Helvetica,sans-Serif\" font-size=\"14.00\">samples = 2630</text>\n",
       "<text text-anchor=\"start\" x=\"143.5\" y=\"-22.8\" font-family=\"Helvetica,sans-Serif\" font-size=\"14.00\">value = [2460, 170]</text>\n",
       "<text text-anchor=\"start\" x=\"173\" y=\"-7.8\" font-family=\"Helvetica,sans-Serif\" font-size=\"14.00\">class = R</text>\n",
       "</g>\n",
       "<!-- 1&#45;&gt;3 -->\n",
       "<g id=\"edge3\" class=\"edge\">\n",
       "<title>1&#45;&gt;3</title>\n",
       "<path fill=\"none\" stroke=\"black\" d=\"M196.48,-103.73C197.09,-95.43 197.73,-86.67 198.34,-78.28\"/>\n",
       "<polygon fill=\"black\" stroke=\"black\" points=\"201.83,-78.53 199.07,-68.3 194.85,-78.02 201.83,-78.53\"/>\n",
       "</g>\n",
       "<!-- 5 -->\n",
       "<g id=\"node6\" class=\"node\">\n",
       "<title>5</title>\n",
       "<path fill=\"#5aade9\" stroke=\"black\" d=\"M406,-68C406,-68 313,-68 313,-68 307,-68 301,-62 301,-56 301,-56 301,-12 301,-12 301,-6 307,0 313,0 313,0 406,0 406,0 412,0 418,-6 418,-12 418,-12 418,-56 418,-56 418,-62 412,-68 406,-68\"/>\n",
       "<text text-anchor=\"start\" x=\"324\" y=\"-52.8\" font-family=\"Helvetica,sans-Serif\" font-size=\"14.00\">gini = 0.244</text>\n",
       "<text text-anchor=\"start\" x=\"314.5\" y=\"-37.8\" font-family=\"Helvetica,sans-Serif\" font-size=\"14.00\">samples = 176</text>\n",
       "<text text-anchor=\"start\" x=\"309\" y=\"-22.8\" font-family=\"Helvetica,sans-Serif\" font-size=\"14.00\">value = [25, 151]</text>\n",
       "<text text-anchor=\"start\" x=\"331\" y=\"-7.8\" font-family=\"Helvetica,sans-Serif\" font-size=\"14.00\">class = D</text>\n",
       "</g>\n",
       "<!-- 4&#45;&gt;5 -->\n",
       "<g id=\"edge5\" class=\"edge\">\n",
       "<title>4&#45;&gt;5</title>\n",
       "<path fill=\"none\" stroke=\"black\" d=\"M363.89,-103.73C363.36,-95.43 362.8,-86.67 362.27,-78.28\"/>\n",
       "<polygon fill=\"black\" stroke=\"black\" points=\"365.76,-78.06 361.63,-68.3 358.77,-78.5 365.76,-78.06\"/>\n",
       "</g>\n",
       "<!-- 6 -->\n",
       "<g id=\"node7\" class=\"node\">\n",
       "<title>6</title>\n",
       "<path fill=\"#f8dfcc\" stroke=\"black\" d=\"M534.5,-68C534.5,-68 448.5,-68 448.5,-68 442.5,-68 436.5,-62 436.5,-56 436.5,-56 436.5,-12 436.5,-12 436.5,-6 442.5,0 448.5,0 448.5,0 534.5,0 534.5,0 540.5,0 546.5,-6 546.5,-12 546.5,-12 546.5,-56 546.5,-56 546.5,-62 540.5,-68 534.5,-68\"/>\n",
       "<text text-anchor=\"start\" x=\"456\" y=\"-52.8\" font-family=\"Helvetica,sans-Serif\" font-size=\"14.00\">gini = 0.489</text>\n",
       "<text text-anchor=\"start\" x=\"446.5\" y=\"-37.8\" font-family=\"Helvetica,sans-Serif\" font-size=\"14.00\">samples = 115</text>\n",
       "<text text-anchor=\"start\" x=\"444.5\" y=\"-22.8\" font-family=\"Helvetica,sans-Serif\" font-size=\"14.00\">value = [66, 49]</text>\n",
       "<text text-anchor=\"start\" x=\"463\" y=\"-7.8\" font-family=\"Helvetica,sans-Serif\" font-size=\"14.00\">class = R</text>\n",
       "</g>\n",
       "<!-- 4&#45;&gt;6 -->\n",
       "<g id=\"edge6\" class=\"edge\">\n",
       "<title>4&#45;&gt;6</title>\n",
       "<path fill=\"none\" stroke=\"black\" d=\"M413.05,-103.73C423.77,-94.33 435.17,-84.35 445.85,-74.99\"/>\n",
       "<polygon fill=\"black\" stroke=\"black\" points=\"448.27,-77.52 453.49,-68.3 443.66,-72.26 448.27,-77.52\"/>\n",
       "</g>\n",
       "</g>\n",
       "</svg>\n"
      ],
      "text/plain": [
       "<graphviz.files.Source at 0x7fb7839e78e0>"
      ]
     },
     "execution_count": 18,
     "metadata": {},
     "output_type": "execute_result"
    }
   ],
   "source": [
    "import graphviz\n",
    "'''\n",
    "dot_data = tree.export_graphviz(clf, out_file=None) \n",
    "graph = graphviz.Source(dot_data) \n",
    "'''\n",
    "dot_data = tree.export_graphviz(clf, out_file=None, \n",
    "                     feature_names=X_train.columns.values,  \n",
    "                     class_names=[\"R\",\"D\"],  \n",
    "                     filled=True, rounded=True,  \n",
    "                     special_characters=True)  \n",
    "graph = graphviz.Source(dot_data)  \n",
    "\n",
    "graph"
   ]
  },
  {
   "cell_type": "code",
   "execution_count": 19,
   "metadata": {
    "colab": {
     "base_uri": "https://localhost:8080/",
     "height": 239
    },
    "executionInfo": {
     "elapsed": 725,
     "status": "ok",
     "timestamp": 1579856524917,
     "user": {
      "displayName": "Stéphane Herbin",
      "photoUrl": "",
      "userId": "09364083353920886752"
     },
     "user_tz": -60
    },
    "id": "2p0aaQkMm1pV",
    "outputId": "8ed3075f-08d8-4f63-b8dd-91e735ae7ed1"
   },
   "outputs": [
    {
     "name": "stdout",
     "output_type": "stream",
     "text": [
      "Predictions per county in state #17 are [0 0 0 0 0 0 0 0 0 1 0 0 0 0 0 1 0 0 0 0 0 0 0 0 0 0 0 0 0 0 0 0 0 0 0 0 0\n",
      " 0 0 0 0 0 0 0 0 0 0 0 1 0 0 0 0 0 0 0 0 0 0 0 0 0 0 0 0 0 0 0 0 0 0 1 0 0\n",
      " 0 0 0 0 0 0 0 0 0 1 0 0 0 0 0 0 0 0 0 0 0 0 0 0 0 0 0 0]\n",
      "Votes per county in state #17 are [0, 0, 0, 0, 0, 0, 0, 0, 0, 1, 0, 0, 0, 0, 0, 1, 0, 0, 1, 0, 0, 1, 0, 0, 0, 0, 0, 0, 0, 0, 0, 0, 0, 0, 0, 0, 0, 0, 1, 0, 0, 0, 0, 0, 1, 0, 0, 0, 1, 0, 0, 0, 0, 0, 0, 0, 0, 0, 0, 0, 0, 0, 0, 0, 0, 0, 0, 0, 0, 0, 0, 1, 0, 0, 0, 0, 0, 0, 0, 0, 1, 1, 0, 0, 0, 0, 0, 0, 0, 0, 0, 0, 0, 0, 0, 0, 0, 0, 1, 0, 0, 0]\n",
      "0.9215686274509803 0.6763236763236764\n",
      "[[90  1]\n",
      " [ 7  4]]\n"
     ]
    }
   ],
   "source": [
    "# Prédiction et évaluation\n",
    "\n",
    "preds = clf.predict(X_test)\n",
    "print('Predictions per county in state #'+ str(STATE_FIPS_CODE) + ' are ' + str(preds ) )\n",
    "print('Votes per county in state #'+ str(STATE_FIPS_CODE) + ' are ' + str(list(y_test) ) )\n",
    "\n",
    "import sklearn.metrics as perf\n",
    "\n",
    "oa = perf.accuracy_score(y_test, preds)\n",
    "bas = perf.balanced_accuracy_score(y_test, preds)\n",
    "print(oa,bas)\n",
    "cm = perf.confusion_matrix(y_test, preds)\n",
    "print(cm)\n"
   ]
  },
  {
   "cell_type": "markdown",
   "metadata": {
    "id": "nx-UmaBEtrFN"
   },
   "source": [
    "\n",
    "---\n",
    "\n",
    "# Bagging\n",
    "\n",
    "L'objectif de cette partie est de construire **à la main** une approche de bagging.\n",
    "\n",
    "Le principe de l'approche est de:\n",
    "\n",
    "* Apprendre et collecter plusieurs arbres sur des échantillonnages aléatoires des données d'apprentissage\n",
    "* Agréger les prédictions par vote \n",
    "* Evaluer: Les prédictions agrégées\n",
    "* Comparer avec les arbres individuels et le résultat précédent\n",
    "\n",
    "\n",
    "Utiliser les fonctions de construction d'ensemble d'apprentissage/test de scikit-learn https://scikit-learn.org/stable/modules/generated/sklearn.model_selection.train_test_split.html pour générer les sous-esnembles échantillonnés.\n",
    "\n",
    "**Comparer après le cours** les fonctions de scikit-learn: https://scikit-learn.org/stable/modules/ensemble.html\n",
    "\n",
    "Numpy tips: [np.arange](https://docs.scipy.org/doc/numpy-1.15.0/reference/generated/numpy.arange.html), [numpy.sum](https://docs.scipy.org/doc/numpy-1.15.0/reference/generated/numpy.sum.html), [numpy.mean](https://docs.scipy.org/doc/numpy-1.15.1/reference/generated/numpy.mean.html), [numpy.where](https://docs.scipy.org/doc/numpy-1.15.0/reference/generated/numpy.where.html)"
   ]
  },
  {
   "cell_type": "code",
   "execution_count": null,
   "metadata": {
    "id": "S0Haw1inuPMs"
   },
   "outputs": [],
   "source": [
    "from sklearn.model_selection import train_test_split\n",
    "\n",
    "# Données d'apprentissage: X_train, y_train, idx_train\n",
    "# Données de test: X_test, y_test, idx_test\n",
    "# Les étapes de conception du prédicteur (apprentissage) sont les suivantes:\n",
    "#   - Construction des sous-ensembles de données\n",
    "#   - Apprentissage d'un arbre\n",
    "#   - Agrégation de l'arbre dans la forêt\n",
    "#\n",
    "# Pour le test\n",
    "\n",
    "\n",
    "def learn_forest(XTrain, yTrain, nb_trees, depth=15):\n",
    "\n",
    "  forest = []\n",
    "  singleperf=[]\n",
    "\n",
    "  for ss in range(nb_trees):\n",
    "    # bagging for subset\n",
    "    X_train_sub, X_test_sub, y_train_sub, y_test_sub = train_test_split(\n",
    "        XTrain, yTrain, test_size=0.2 )\n",
    "\n",
    "    # single tree training\n",
    "    clf = tree.DecisionTreeClassifier(max_depth=depth, splitter=\"random\")\n",
    "    clf = clf.fit( X_train_sub, y_train_sub )\n",
    "    \n",
    "    # grow the forest\n",
    "    forest.append( clf )\n",
    "  \n",
    "    # single tree evaluation\n",
    "    curr_train_pred=clf.predict(X_train_sub)\n",
    "    curr_test_pred=clf.predict(X_test_sub)\n",
    "    singleperf.append([perf.balanced_accuracy_score( y_train_sub, curr_train_pred ), perf.balanced_accuracy_score( y_test_sub,curr_test_pred)])\n",
    "  \n",
    "  return forest,singleperf\n"
   ]
  },
  {
   "cell_type": "code",
   "execution_count": null,
   "metadata": {
    "id": "qyT6zrLRvl-x"
   },
   "outputs": [],
   "source": [
    "def predict_forest(forest, XTest, yTest = None):\n",
    "  \n",
    "  singleperf=[]\n",
    "  all_preds=[]\n",
    "  nb_trees = len(forest)\n",
    "#########################\n",
    "## METTRE VOTRE CODE ICI\n",
    "#########################\n",
    "\n",
    "  if (yTest is not None):\n",
    "    return final_pred,singleperf\n",
    "  else:\n",
    "    return final_pred\n"
   ]
  },
  {
   "cell_type": "code",
   "execution_count": null,
   "metadata": {
    "colab": {
     "base_uri": "https://localhost:8080/",
     "height": 54
    },
    "executionInfo": {
     "elapsed": 1038,
     "status": "ok",
     "timestamp": 1579868691555,
     "user": {
      "displayName": "Stéphane Herbin",
      "photoUrl": "",
      "userId": "09364083353920886752"
     },
     "user_tz": -60
    },
    "id": "Bs8kgN1XvnGa",
    "outputId": "d9ecb567-c9c4-400f-a194-74ff4d533b3c"
   },
   "outputs": [
    {
     "name": "stdout",
     "output_type": "stream",
     "text": [
      "Taux de bonne prédiction = 76.32%\n",
      "0.6837740384615385\n"
     ]
    }
   ],
   "source": [
    "#########################\n",
    "## METTRE VOTRE CODE ICI\n",
    "#########################\n",
    "\n",
    "\n",
    "X_train, y_train, X_test, y_test = county_data(census_data, 6)\n",
    "\n",
    "F,singleperf = learn_forest(X_train, y_train, 20, depth=15)\n",
    "pred, singleperftest = predict_forest(F, X_test, y_test)\n",
    "acc = perf.balanced_accuracy_score( y_test, pred )\n",
    "print(\"Taux de bonne prédiction = {:.2f}%\".format(100*acc))\n",
    "print(mean(singleperftest))\n",
    "#print(singleperftest)\n",
    "#print(singleperf)"
   ]
  }
 ],
 "metadata": {
  "colab": {
   "collapsed_sections": [],
   "name": "td2_tree_and_forest.ipynb",
   "provenance": [
    {
     "file_id": "1OEGtAwN2ywNFRUSKpg-tLRKoUifag2xd",
     "timestamp": 1579869365943
    }
   ]
  },
  "kernelspec": {
   "display_name": "Python 3",
   "language": "python",
   "name": "python3"
  },
  "language_info": {
   "codemirror_mode": {
    "name": "ipython",
    "version": 3
   },
   "file_extension": ".py",
   "mimetype": "text/x-python",
   "name": "python",
   "nbconvert_exporter": "python",
   "pygments_lexer": "ipython3",
   "version": "3.8.2"
  }
 },
 "nbformat": 4,
 "nbformat_minor": 1
}
