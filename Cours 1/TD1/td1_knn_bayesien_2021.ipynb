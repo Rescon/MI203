{
 "cells": [
  {
   "cell_type": "markdown",
   "metadata": {
    "id": "qXTXvYpE1CPB"
   },
   "source": [
    "# TD 1: Apprentissage automatique - Approche bayésienne et k-NN\n",
    "# 12 / 01 / 2021\n",
    "\n",
    "\n",
    "Répondez aux questions dans le document et copiez les lignes de code qui ont produit les résultats aux endroits indiqués.\n",
    "\n",
    "Le TD comprend 2 parties:\n",
    "* Une comparaison des approches bayésienne et plus proches voisins pour un problème de classification binaire. Les algorithmes seront codés intégralement en python.\n",
    "* Une prise en main sur un autre problème de la bibliothèque  [scikit-learn](http://scikit-learn.org/stable/modules/classes.html) qui implémente les mêmes algorithmes.\n"
   ]
  },
  {
   "cell_type": "markdown",
   "metadata": {
    "id": "49SXeP9y5Bmi"
   },
   "source": [
    "______\n",
    "\n",
    "# Introduction: Utilisation de Colab\n",
    "______\n",
    "\n",
    "Dans ce TD, on utilise les ressources proposées par Colab. Les données seront stockées sur le Google Drive associé à votre compte Gmail.\n",
    "\n",
    "Pour accéder au données depuis Colab, il faut \"monter le Gdrive\" depuis une session Colab.\n",
    "\n",
    "Exécutez le cellule suivante pour le faire. il vous sera demandé de saisir une clé d'authentification générée à partir du lien affiché. (Ctrl+Enter ou clic sur la flèche)"
   ]
  },
  {
   "cell_type": "code",
   "execution_count": 4,
   "metadata": {
    "colab": {
     "base_uri": "https://localhost:8080/"
    },
    "executionInfo": {
     "elapsed": 18299,
     "status": "ok",
     "timestamp": 1611767585586,
     "user": {
      "displayName": "王宇",
      "photoUrl": "",
      "userId": "14952779251471138120"
     },
     "user_tz": -60
    },
    "id": "mrs_sTGV15Xa",
    "outputId": "4ad85748-6dbd-46ec-ce27-cadfaa1d8577"
   },
   "outputs": [
    {
     "name": "stdout",
     "output_type": "stream",
     "text": [
      "Mounted at /content/gdrive\n"
     ]
    }
   ],
   "source": [
    "from google.colab import drive\n",
    "drive.mount('/content/gdrive')"
   ]
  },
  {
   "cell_type": "markdown",
   "metadata": {
    "id": "2l_9h-Hs7DQ5"
   },
   "source": [
    "Il faut ensuite positionner des variables d'environnement pour indiquer à Colab où se trouvent les données (fichiers python et données d'apprentissage).\n",
    "\n",
    "Exécutez la cellule suivante pour le faire, et modifiez la variable 'TD_DIR' à l'endroit où vous avez sauvegardé le TD1. "
   ]
  },
  {
   "cell_type": "code",
   "execution_count": 5,
   "metadata": {
    "executionInfo": {
     "elapsed": 623,
     "status": "ok",
     "timestamp": 1611767587788,
     "user": {
      "displayName": "王宇",
      "photoUrl": "",
      "userId": "14952779251471138120"
     },
     "user_tz": -60
    },
    "id": "JJSr-2A-2YV4"
   },
   "outputs": [],
   "source": [
    "import sys\n",
    "\n",
    "# Modifier la variable du TD en fonction de l'endroit où les données sont stockées\n",
    "TD_DIR = 'gdrive/My Drive/MI203/TD1/'\n",
    "sys.path.append(TD_DIR)"
   ]
  },
  {
   "cell_type": "markdown",
   "metadata": {
    "id": "nRprSmVE1CPF"
   },
   "source": [
    "______\n",
    "\n",
    "# Partie 1: Apprentissage automatique en Python\n",
    "______\n",
    "\n",
    "On se propose dans cette première partie de construire une démarche d'apprentissage sur un problème simple, et de programmer les deux algorithmes vus dans le cours (bayésien naĩf et plus proches voisins).\n",
    "\n",
    "Chaque jeu de données est constitué de quatre ensembles :\n",
    "* Un ensemble de données test utilisées pour l'apprentissage : trainX\n",
    "* Un ensemble de classes associées aux données d'apprentissage : trainY\n",
    "* Un ensemble de données à tester : testX\n",
    "* Un ensemble de classes associées aux données de test : testY\n",
    "\n",
    "Les données de test ne doivent pas être utilisées pour l'apprentissage proprement dit, seulement pour son évaluation.\n",
    "\n",
    "Si besoin (validation croisée), les jeux d'apprentissage peuvent être répartis en train + validation.\n",
    "\n",
    "Remarque: Pour visualiser dans le notebook, appliquer l'instruction:\n",
    ">```python\n",
    "plt.show() ```\n",
    "\n",
    "après chaque fonction de visualisation.\n"
   ]
  },
  {
   "cell_type": "markdown",
   "metadata": {
    "id": "QFiivfGl1CPH"
   },
   "source": [
    "## Activité 1.1 : Bayésien naïf.\n",
    "\n",
    "On se propose de réaliser une classification binaire d'un ensemble de données en utilisant une approche de type \"bayésien naïf\".\n",
    "\n",
    "Le problème est une classification binaire pour détecter des billets de banque frauduleux. Les données source d'origine sont accessible ici https://archive.ics.uci.edu/ml/datasets/banknote+authentication, mais sont aussi présentes sur votre machine. \n",
    "\n",
    "L'objectif est de dérouler les différentes étapes d'une démarche d'apprentissage automatique:\n",
    "1. Constitution de la base d'apprentissage\n",
    "2. Visualisation des données\n",
    "3. Choix de l'approche\n",
    "4. Optimisation\n",
    "5. Evaluation\n",
    "\n",
    "### Base d'apprentissage"
   ]
  },
  {
   "cell_type": "markdown",
   "metadata": {
    "id": "WOJ2R0Hw1CPL"
   },
   "source": [
    "\n",
    "<div class=\"alert alert-block alert-info\">\n",
    "\n",
    "Les données source ont été placées dans le répertoire du TP (fichier 'data_banknote_authentication.txt').\n",
    "\n",
    "Exécuter le code ci-dessous qui les charge, et qui les répartit en ensemble d'apprentissage et de test (fonction 'train_test_split')\n",
    "\n",
    "Montrer les tailles des données (nombre de caractéristiques, nombre de données). \n",
    "\n",
    "</div>\n"
   ]
  },
  {
   "cell_type": "code",
   "execution_count": 6,
   "metadata": {
    "colab": {
     "base_uri": "https://localhost:8080/"
    },
    "executionInfo": {
     "elapsed": 1682,
     "status": "ok",
     "timestamp": 1611767594634,
     "user": {
      "displayName": "王宇",
      "photoUrl": "",
      "userId": "14952779251471138120"
     },
     "user_tz": -60
    },
    "id": "w5TsMi6l1CPM",
    "outputId": "d4ec20f0-adc1-4aad-facc-ba3689688ef4"
   },
   "outputs": [
    {
     "name": "stdout",
     "output_type": "stream",
     "text": [
      "Les données sont de dimension 4\n",
      "Le nombre de données d'apprentissage est 274\n"
     ]
    }
   ],
   "source": [
    "# Librairies scientifique et visualisation utiles standard\n",
    "import numpy as np\n",
    "import matplotlib.pyplot as plt\n",
    "import random\n",
    "\n",
    "# Pour séparer les données en apprentissage et test\n",
    "from sklearn.model_selection import train_test_split\n",
    "\n",
    "# Pour visualiser  les données\n",
    "def show_data_2D(X,Y):\n",
    "    np.unique(Y)\n",
    "    fig, ax = plt.subplots(figsize=(8, 6))\n",
    "    for id in np.unique(Y):\n",
    "        idpositive=np.nonzero(Y == id)[0]\n",
    "        ax.scatter(X[idpositive,0], X[idpositive,1], s=50)\n",
    "\n",
    "# Chargement des données et constitution de la base d'apprentissage\n",
    "\n",
    "\n",
    "X = np.loadtxt(TD_DIR+'data_banknote_authentication.txt', delimiter=',')\n",
    "y = X[:,-1]\n",
    "X = X[:,:-1]\n",
    "\n",
    "X_train, X_test, y_train, y_test = train_test_split(X, y,\n",
    "                                                    random_state=42,\n",
    "                                                    stratify=y,\n",
    "                                                    test_size=0.8)\n",
    "\n",
    "# MODIFIER LE CODE\n",
    "print(\"Les données sont de dimension {:d}\".format(X_train.shape[1]))\n",
    "print(\"Le nombre de données d'apprentissage est {:d}\".format(X_train.shape[0]))\n"
   ]
  },
  {
   "cell_type": "markdown",
   "metadata": {
    "id": "CfRRqXqM1CPV"
   },
   "source": [
    "### Visualisation des données"
   ]
  },
  {
   "cell_type": "markdown",
   "metadata": {
    "id": "AHvtgNQN1CPY"
   },
   "source": [
    "\n",
    "\n",
    "<div class=\"alert alert-block alert-info\">\n",
    "\n",
    "Faire des sorties visuelles des distributions de données. Vous pourrez utiliser les fonctions de visualisation \"show_data_2D\" pour mettre en évidence les corrélations, et [plt.hist](https://matplotlib.org/devdocs/api/_as_gen/matplotlib.pyplot.hist.html) pour visualiser des histogrammes pour chaque classe.\n",
    "\n",
    "</div>\n"
   ]
  },
  {
   "cell_type": "code",
   "execution_count": 90,
   "metadata": {
    "colab": {
     "base_uri": "https://localhost:8080/",
     "height": 622
    },
    "executionInfo": {
     "elapsed": 1207,
     "status": "ok",
     "timestamp": 1611745844159,
     "user": {
      "displayName": "王宇",
      "photoUrl": "",
      "userId": "14952779251471138120"
     },
     "user_tz": -60
    },
    "id": "PDy0FWkL1CPa",
    "outputId": "ec80ddfd-bbc6-4eda-8196-a0c243f71033"
   },
   "outputs": [
    {
     "data": {
      "image/png": "[encoded data removed]",
      "text/plain": [
       "<Figure size 576x432 with 1 Axes>"
      ]
     },
     "metadata": {
      "needs_background": "light",
      "tags": []
     },
     "output_type": "display_data"
    },
    {
     "data": {
      "image/png": "[encoded data removed]",
      "text/plain": [
       "<Figure size 432x288 with 1 Axes>"
      ]
     },
     "metadata": {
      "needs_background": "light",
      "tags": []
     },
     "output_type": "display_data"
    }
   ],
   "source": [
    "# Dimensions à étudier (à répéter pour d'autres dimensions)\n",
    "feat1 = 0\n",
    "feat2 = 1\n",
    "\n",
    "# Distributions 2D\n",
    "show_data_2D(X_train[:,[feat1, feat2]], y_train)\n",
    "plt.show()\n",
    "\n",
    "X0 = X_train[y_train == 0,:]\n",
    "X1 = X_train[y_train == 1,:]\n",
    "\n",
    "# Visualise les distributions pour un attribut\n",
    "a1 = X0[:,feat1]\n",
    "b1 = X1[:,feat1]\n",
    "\n",
    "#Visualise les histogrammes\n",
    "plt.hist(a1, color='b', alpha=0.5, bins=20, label=['class 0'])\n",
    "plt.hist(b1, color='g', alpha=0.5, bins=20, label=['class 1'])\n",
    "plt.legend(loc='upper right')\n",
    "plt.show()\n",
    "\n"
   ]
  },
  {
   "cell_type": "markdown",
   "metadata": {
    "id": "pdN-nX7l1CPf"
   },
   "source": [
    "### Choix de l'approche"
   ]
  },
  {
   "cell_type": "markdown",
   "metadata": {
    "id": "xLVd5nah1CPi"
   },
   "source": [
    "\n",
    "\n",
    "<div class=\"alert alert-block alert-info\">\n",
    "\n",
    "Le principe du bayésien naïf est d'estimer la loi conditionnelle $P[x_i | y]$ pour les différentes hypothèses $y\\in\\{0,1\\}$ et caractéristiques $x_i$.\n",
    "<br><br>\n",
    "A partir de la répartition des données pour chaque caractéristique, le principe du choix de l'approche est de sélectionner un bon modèle de cette distribution (binomiale, multinomiale, gaussienne, histogram, mélange de gaussienne...)?\n",
    "<br><br>\n",
    "Vous pouvez regarder la bibliothèque [scipy.stats](https://docs.scipy.org/doc/scipy/reference/stats.html) qui définit les familles courantes de distributions statistiques.\n",
    "<br><br>\n",
    "Essayez d'estimer quelques lois paramétriques pertinentes (méthode 'fit' des classes de scipy.stats) en les superposant aux histogrammes des données. \n",
    "\n",
    "</div>\n"
   ]
  },
  {
   "cell_type": "code",
   "execution_count": 99,
   "metadata": {
    "colab": {
     "base_uri": "https://localhost:8080/",
     "height": 281
    },
    "executionInfo": {
     "elapsed": 779,
     "status": "ok",
     "timestamp": 1611746140322,
     "user": {
      "displayName": "王宇",
      "photoUrl": "",
      "userId": "14952779251471138120"
     },
     "user_tz": -60
    },
    "id": "Glxf8LYx1CPk",
    "outputId": "4e75cda2-ee42-4a6d-8719-34e3d5a0f55c",
    "scrolled": false
   },
   "outputs": [
    {
     "data": {
      "image/png": "[encoded data removed]",
      "text/plain": [
       "<Figure size 432x288 with 1 Axes>"
      ]
     },
     "metadata": {
      "needs_background": "light",
      "tags": []
     },
     "output_type": "display_data"
    }
   ],
   "source": [
    "# Choix de la distribution\n",
    "from scipy.stats import laplace, expon, norm, gamma, beta, cauchy, logistic\n",
    "\n",
    "# Changer de distribution\n",
    "# MODIFIER LE CODE ICI\n",
    "distrib=laplace\n",
    "\n",
    "# Choix de la caractéristique\n",
    "feat1 = 1\n",
    "a1 = X0[:,feat1]\n",
    "b1 = X1[:,feat1]\n",
    "\n",
    "# Visualise les distributions pour une caractéristique\n",
    "plt.clf()\n",
    "\n",
    "data = a1\n",
    "param = distrib.fit(data)\n",
    "\n",
    "# Plot the histogram.\n",
    "plt.hist(data, bins=25, density=True, alpha=0.6, color='b')\n",
    "\n",
    "# Plot the PDF.\n",
    "xmin, xmax = plt.xlim()\n",
    "x = np.linspace(xmin, xmax, 100)\n",
    "p = distrib.pdf(x, *param)\n",
    "plt.plot(x, p, 'b', linewidth=2)\n",
    "\n",
    "data = b1\n",
    "param = distrib.fit(data)\n",
    "\n",
    "# Plot the histogram.\n",
    "plt.hist(data, bins=25, density=True, alpha=0.6, color='g')\n",
    "\n",
    "# Plot the PDF.\n",
    "xmin, xmax = plt.xlim()\n",
    "x = np.linspace(xmin, xmax, 100)\n",
    "p = distrib.pdf(x, *param)\n",
    "plt.plot(x, p, 'g', linewidth=2)\n",
    "\n",
    "title = \"Fit results for %s\" % distrib.name\n",
    "plt.title(title)\n",
    "\n",
    "plt.show()\n",
    "\n"
   ]
  },
  {
   "cell_type": "markdown",
   "metadata": {
    "id": "sRO9cUOm1CPq"
   },
   "source": [
    "<div class=\"alert alert-block alert-success\">\n",
    "QUESTION: Quelle est la famille de distributions la plus simple pour décrire les données?\n",
    "</div>"
   ]
  },
  {
   "cell_type": "markdown",
   "metadata": {
    "id": "2UhWErS71CPt"
   },
   "source": [
    "**Réponse**\n",
    "\n",
    "Une famille simple vu l'allure des données est la famille des distributions gaussiennes, \"norm\" (globalement les données sont monomodales)."
   ]
  },
  {
   "cell_type": "markdown",
   "metadata": {
    "id": "T5CbT7WJ1CPv"
   },
   "source": [
    "### Optimisation du modèle"
   ]
  },
  {
   "cell_type": "markdown",
   "metadata": {
    "id": "D8YhAwb01CPv"
   },
   "source": [
    "<div class=\"alert alert-block alert-info\">\n",
    "Ecrire une fonction d'estimation qui renvoie le modèle de distribution ou ses paramètres pour l'ensemble des lois conditionnelles. Ce sera le résultat de votre apprentissage! Appliquez-la sur les distributions de chacune des deux classes.\n",
    "</div>"
   ]
  },
  {
   "cell_type": "code",
   "execution_count": 96,
   "metadata": {
    "executionInfo": {
     "elapsed": 497,
     "status": "ok",
     "timestamp": 1611746124512,
     "user": {
      "displayName": "王宇",
      "photoUrl": "",
      "userId": "14952779251471138120"
     },
     "user_tz": -60
    },
    "id": "QMY6nMPJ1CPy",
    "scrolled": false
   },
   "outputs": [],
   "source": [
    "def build_model(data, distrib):\n",
    "    nfeat = data.shape[1]\n",
    "    params = []\n",
    "    for ifeat in range(nfeat):\n",
    "        par = distrib.fit(data[:,ifeat])\n",
    "        params.append(par)\n",
    "    return params\n",
    "\n",
    "distrib = laplace\n",
    "\n",
    "param0 = build_model(X0, distrib)\n",
    "param1 = build_model(X1, distrib)\n"
   ]
  },
  {
   "cell_type": "markdown",
   "metadata": {
    "id": "FkNSptq91CP6"
   },
   "source": [
    "<div class=\"alert alert-block alert-info\">\n",
    "Ecrire une fonction 'compute_log_likelihood' qui prédit la classe à partir des données et des modèles de distributions en utilisant une approche bayésienne naïve:\n",
    "$$\\log P[y|\\mathbf{x}] \\propto \\sum_{i=1}^N \\log P[x_i|y] + \\log P[y]$$\n",
    "pour chacune des classes $y$ et une donnée à prédire $\\mathbf{x}$.\n",
    "</div>"
   ]
  },
  {
   "cell_type": "code",
   "execution_count": 97,
   "metadata": {
    "executionInfo": {
     "elapsed": 488,
     "status": "ok",
     "timestamp": 1611746126839,
     "user": {
      "displayName": "王宇",
      "photoUrl": "",
      "userId": "14952779251471138120"
     },
     "user_tz": -60
    },
    "id": "cxkCeXgF1CP9",
    "scrolled": false
   },
   "outputs": [],
   "source": [
    "def compute_log_likelihood(data, distrib, params):\n",
    "    llk = np.zeros((1,data.shape[0]))\n",
    "    nfeat = data.shape[1]\n",
    "    for ifeat in range(nfeat):\n",
    "        llk = llk + distrib.logpdf(data[:,ifeat], *params[ifeat])\n",
    "    return llk.squeeze()\n"
   ]
  },
  {
   "cell_type": "markdown",
   "metadata": {
    "id": "B4bYeL9d1CQB"
   },
   "source": [
    "### Evaluation"
   ]
  },
  {
   "cell_type": "markdown",
   "metadata": {
    "id": "f_o4lhxl1CQC"
   },
   "source": [
    "<div class=\"alert alert-block alert-info\">\n",
    "Tester les performances du classifieur sur les données d'apprentissage et de test. Pour cela, écrivez une fonction de prédiction utilisant le modèle, appliquez-le sur les données de test et comparez aux vraies valeurs.\n",
    "</div>"
   ]
  },
  {
   "cell_type": "code",
   "execution_count": 98,
   "metadata": {
    "colab": {
     "base_uri": "https://localhost:8080/"
    },
    "executionInfo": {
     "elapsed": 544,
     "status": "ok",
     "timestamp": 1611746128688,
     "user": {
      "displayName": "王宇",
      "photoUrl": "",
      "userId": "14952779251471138120"
     },
     "user_tz": -60
    },
    "id": "waGxeCN71CQE",
    "outputId": "16750056-2e06-4dec-a419-8c3cea75d31b",
    "scrolled": false
   },
   "outputs": [
    {
     "name": "stdout",
     "output_type": "stream",
     "text": [
      "Taux d'erreur sur données de train = 11.3%\n",
      "Taux d'erreur sur données de test = 14.9%\n"
     ]
    }
   ],
   "source": [
    "def predic_bayesien_naif(data, distrib, param0, param1):       \n",
    "    llk0 = compute_log_likelihood(data, distrib, param0)\n",
    "    llk1 = compute_log_likelihood(data, distrib, param1)\n",
    "\n",
    "    dllk = llk0 - llk1\n",
    "\n",
    "    y_predic = (dllk < 0).astype('int')\n",
    "    return y_predic\n",
    "\n",
    "\n",
    "y_train_predic = predic_bayesien_naif(X_train, distrib, param0, param1)\n",
    "y_test_predic = predic_bayesien_naif(X_test, distrib, param0, param1)\n",
    "\n",
    "\n",
    "nerr_train = (y_train_predic != y_train).sum()\n",
    "nerr_test = (y_test_predic != y_test).sum()\n",
    "\n",
    "print(\"Taux d'erreur sur données de train = {:.1f}%\".format(100*nerr_train/X_train.shape[0]))\n",
    "print(\"Taux d'erreur sur données de test = {:.1f}%\".format(100*nerr_test/X_test.shape[0]))\n"
   ]
  },
  {
   "cell_type": "markdown",
   "metadata": {
    "id": "fKfBe3FL1CQM"
   },
   "source": [
    "<div class=\"alert alert-block alert-success\">\n",
    "QUESTION: Expliquez les différences des valeurs de performance entre ensembles d'apprentissage et de test.\n",
    "</div>"
   ]
  },
  {
   "cell_type": "markdown",
   "metadata": {
    "id": "bEx_0AkT1CQM"
   },
   "source": [
    "**Réponse**\n",
    "\n",
    "Le modèle est appris sur des données en petit nombre, et est donc imprécis."
   ]
  },
  {
   "cell_type": "markdown",
   "metadata": {
    "id": "tjEb4uGW1CQO"
   },
   "source": [
    "## Activité 1.2: Plus proches voisins\n",
    "On va reproduire la séquence d'activité précédente en développant une approche de type 'plus proches voisins', et la valider sur le même jeu de données."
   ]
  },
  {
   "cell_type": "markdown",
   "metadata": {
    "id": "U2XH64-b1CQQ"
   },
   "source": [
    "### Choix du modèle"
   ]
  },
  {
   "cell_type": "markdown",
   "metadata": {
    "id": "27bkejTm1CQR"
   },
   "source": [
    "\n",
    "<div class=\"alert alert-block alert-info\">\n",
    "Les principaux paramètres du modèle sont le type de distance ou de mesure de similarité, et le nombre de voisins à utiliser pour prendre une décision.\n",
    "</div>"
   ]
  },
  {
   "cell_type": "code",
   "execution_count": 112,
   "metadata": {
    "executionInfo": {
     "elapsed": 514,
     "status": "ok",
     "timestamp": 1611746990448,
     "user": {
      "displayName": "王宇",
      "photoUrl": "",
      "userId": "14952779251471138120"
     },
     "user_tz": -60
    },
    "id": "HvxAcXeR1CQT"
   },
   "outputs": [],
   "source": [
    "# Choix de la distance de similarité\n",
    "dist_name = 'euclidean'\n",
    "\n",
    "# Choix du nombre de voisins\n",
    "k = 5"
   ]
  },
  {
   "cell_type": "markdown",
   "metadata": {
    "id": "S8kdXwfO1CQi"
   },
   "source": [
    "### Optimisation"
   ]
  },
  {
   "cell_type": "markdown",
   "metadata": {
    "id": "Xu0DQO6L1CQk"
   },
   "source": [
    "\n",
    "<div class=\"alert alert-block alert-info\">\n",
    "L'apprentissage d'une approche 'plus proches voisins' consiste simplement à collecter les exemples d'apprentissage et leurs classes.\n",
    "</div>"
   ]
  },
  {
   "cell_type": "code",
   "execution_count": 113,
   "metadata": {
    "executionInfo": {
     "elapsed": 594,
     "status": "ok",
     "timestamp": 1611746992082,
     "user": {
      "displayName": "王宇",
      "photoUrl": "",
      "userId": "14952779251471138120"
     },
     "user_tz": -60
    },
    "id": "kk9Pzq9k1CQl"
   },
   "outputs": [],
   "source": [
    "# Apprentissage\n",
    "Bdd_samples = X_train\n",
    "Bdd_classes = y_train"
   ]
  },
  {
   "cell_type": "markdown",
   "metadata": {
    "id": "QUlQHT2w1CQr"
   },
   "source": [
    "### Evaluation"
   ]
  },
  {
   "cell_type": "markdown",
   "metadata": {
    "id": "Du_w5XZb1CQt"
   },
   "source": [
    "\n",
    "<div class=\"alert alert-block alert-info\">\n",
    "L'évaluation consiste à vérifier que la fonction de prédiction appliquée sur le jeu de test produit des classes identiques à la vérité terrain. \n",
    "<br><br>\n",
    "Ecrivez le corps de la fonction de prédiction 'predic_kNN' prenant en entrée l'ensemble de test, et les paramètres de l'algorithme du plus proche voisin. \n",
    "<br><br>\n",
    "Vous pouvez utiliser les fonctions de calcul de matrices de similarité <a href=https://docs.scipy.org/doc/scipy/reference/generated/scipy.spatial.distance.cdist.html>cdist</a>, les fonctions de tri de numpy <a href=https://docs.scipy.org/doc/numpy/reference/generated/numpy.argsort.html>argsort</a> et les fonctions de statistiques sur des collections implémentées directement en Python dans la classe <a href=https://docs.python.org/3/library/collections.html#collections.Counter>Counter</a>. Avec ces fonctions, l'algorithme peut tenir en moins de 10 lignes.\n",
    "\n",
    "</div>"
   ]
  },
  {
   "cell_type": "code",
   "execution_count": 171,
   "metadata": {
    "colab": {
     "base_uri": "https://localhost:8080/"
    },
    "executionInfo": {
     "elapsed": 733,
     "status": "ok",
     "timestamp": 1611755081599,
     "user": {
      "displayName": "王宇",
      "photoUrl": "",
      "userId": "14952779251471138120"
     },
     "user_tz": -60
    },
    "id": "JuF6YNjW1CQu",
    "outputId": "2e8eba25-fea8-4355-9442-2b69aaaa0178",
    "scrolled": false
   },
   "outputs": [
    {
     "name": "stdout",
     "output_type": "stream",
     "text": [
      "Taux d'erreur de test 1.0%\n"
     ]
    }
   ],
   "source": [
    "### Calcul de la distance\n",
    "\n",
    "from scipy.spatial import distance\n",
    "from collections import Counter\n",
    "\n",
    "def predic_kNN(X_test, samples, classes, dist_name, k):    \n",
    "    # distance entre exemples de tests et exemples d'apprentissage\n",
    "    S = distance.cdist(X_test, samples, dist_name)\n",
    "\n",
    "    # ordonne les examples par ordre croissant de distance\n",
    "    NN = np.argsort(S)\n",
    "\n",
    "    # Trouve les étiquettes pour chaque voisin\n",
    "    yNN_predic = classes[NN[:,:k]].astype('int')\n",
    "\n",
    "    # Vote majoritaire: uniquement valable pour les problèmes à deux classes\n",
    "    #y_predic = (2*yNN_predic.sum(axis=1) > k).astype('int')\n",
    "\n",
    "    # Vote majoritaire générique\n",
    "    y_predic = []\n",
    "    for itest in range(yNN_predic.shape[0]):\n",
    "        y_predic.append(Counter(yNN_predic[itest,:]).most_common(1)[0][0])\n",
    "        \n",
    "    return y_predic\n",
    "\n",
    "y_predic = predic_kNN(X_test, Bdd_samples, Bdd_classes, dist_name, k)\n",
    "nerr = (y_predic != y_test).sum()\n",
    "\n",
    "print(\"Taux d'erreur de test {:.1f}%\".format(100*nerr/X_test.shape[0]))"
   ]
  },
  {
   "cell_type": "markdown",
   "metadata": {
    "id": "BDt3OeJF1CQ5"
   },
   "source": [
    "<div class=\"alert alert-block alert-success\">\n",
    "QUESTION: quelles sont les différences principales par rapport au modèle précédent (Bayésien naïf)?\n",
    "</div>"
   ]
  },
  {
   "cell_type": "markdown",
   "metadata": {
    "id": "wdkbnXhn1CQ7"
   },
   "source": [
    "**Réponse**\n",
    "\n",
    "Phase d'apprentissage réduite, temps de calcul plus long, performances meilleures (prise en compte des corrélations entre caractéristiques dans la distance). "
   ]
  },
  {
   "cell_type": "markdown",
   "metadata": {
    "collapsed": true,
    "id": "EWJMzwpl1CQ8"
   },
   "source": [
    "___\n",
    "# Partie 2 : Utilisation de scikit-learn\n",
    "___\n",
    "\n",
    "\n",
    "On se propose dans cette partie d'utiliser la librarie [scikit-learn](http://scikit-learn.org/stable/modules/classes.html) qui contient un rand nombre d'algorithmes d'apprentissage et une interface facile d'utilisation, divisée en deux types de fonctionnalités: 'fit' et 'predict'.\n",
    "\n",
    "Le nouveau problème d'apprentissage est une classification binaire de textes en provenance de [newsgroups](https://en.wikipedia.org/wiki/Usenet_newsgroup), c'est-à-dire des forums de discussion sur une certaine thématique. L'objectif de la classification est de prédire le groupe où le document a été posté uniquement à partir du texte. \n",
    "\n",
    "Une première étape de mise en forme des données sous forme vectorielle a été réalisée et utilise une technique de \"sac de mots\" ([\"bag of words\"](https://en.wikipedia.org/wiki/Bag-of-words_model) en anglais). Les données sont de grande taille, mais très creuses (beaucoup de valeurs nulles par échantillon)."
   ]
  },
  {
   "cell_type": "markdown",
   "metadata": {
    "id": "7wpxGM3O1CQ9"
   },
   "source": [
    "<div class=\"alert alert-block alert-info\">\n",
    "\n",
    "Chargez les données visualisez quelques exemples. Calculez le nombre moyen de valeurs non nulles par échantillon.\n",
    "\n",
    "</div>"
   ]
  },
  {
   "cell_type": "code",
   "execution_count": 7,
   "metadata": {
    "colab": {
     "base_uri": "https://localhost:8080/"
    },
    "executionInfo": {
     "elapsed": 3141,
     "status": "ok",
     "timestamp": 1611767621511,
     "user": {
      "displayName": "王宇",
      "photoUrl": "",
      "userId": "14952779251471138120"
     },
     "user_tz": -60
    },
    "id": "Sca_lGy01CQ_",
    "outputId": "70b7943d-aa2c-488c-cd30-9fcf93f3130a",
    "scrolled": true
   },
   "outputs": [
    {
     "name": "stdout",
     "output_type": "stream",
     "text": [
      "Les données sont de dimension 24412\n",
      "Le nombre de données d'apprentissage est 1383\n",
      "Le nombre moyen de valeurs non nulles par échantillon est 103.8\n"
     ]
    }
   ],
   "source": [
    "## Lecture des données\n",
    "#class0 = 3 #'comp.sys.ibm.pc.hardware',\n",
    "#class1 = 4 #'comp.sys.mac.hardware'\n",
    "\n",
    "class0 = 13 # 'sci.med'\n",
    "class1 = 14 # 'sci.space'\n",
    "\n",
    "\n",
    "npzfile = np.load(TD_DIR+'2newsgroup_{:d}_{:d}.npz'.format(class0,class1),allow_pickle=True)\n",
    "X = npzfile['arr_0'].tolist().todense()\n",
    "\n",
    "y = X[:,-1].getA1()\n",
    "X = X[:,:-1]\n",
    "\n",
    "X_train, X_test, y_train, y_test = train_test_split(X, y,\n",
    "                                                    random_state=42,\n",
    "                                                    stratify=y,\n",
    "                                                    test_size=0.3)\n",
    "\n",
    "print(\"Les données sont de dimension {:d}\".format(X_train.shape[1]))\n",
    "print(\"Le nombre de données d'apprentissage est {:d}\".format(y_train.shape[0]))\n",
    "\n",
    "# MODIFIER LE CODE ICI\n",
    "non_nul_moyen = np.mean(np.sum(X_train != 0,axis=1))\n",
    "print(\"Le nombre moyen de valeurs non nulles par échantillon est {:.1f}\".format(non_nul_moyen))\n"
   ]
  },
  {
   "cell_type": "markdown",
   "metadata": {
    "id": "nc-pYbr11CRG"
   },
   "source": [
    "## Activité 2.1: bayésien naïf"
   ]
  },
  {
   "cell_type": "markdown",
   "metadata": {
    "id": "yfFBwSsQ1CRJ"
   },
   "source": [
    "<div class=\"alert alert-block alert-info\">\n",
    "\n",
    "La bibliothèque propose une version de l'algorithme [bayésien naif](http://scikit-learn.org/stable/modules/classes.html#module-sklearn.naive_bayes) avec plusieurs types de modèles de distributions de probabilités. Quel est le modèle plus adapté au problème parmi les trois proposés?\n",
    "\n",
    "<br><br>\n",
    "\n",
    "Ecrivez ensuite la démarche générique d'apprentissage à partir de la bibliothèque scikit-learn.\n",
    "</div>"
   ]
  },
  {
   "cell_type": "code",
   "execution_count": 13,
   "metadata": {
    "colab": {
     "base_uri": "https://localhost:8080/"
    },
    "executionInfo": {
     "elapsed": 1181,
     "status": "ok",
     "timestamp": 1611768623214,
     "user": {
      "displayName": "王宇",
      "photoUrl": "",
      "userId": "14952779251471138120"
     },
     "user_tz": -60
    },
    "id": "FGsqfqpE1CRK",
    "outputId": "4a91a233-1fa1-4dd9-c6ea-0456783c6ba2",
    "scrolled": false
   },
   "outputs": [
    {
     "name": "stdout",
     "output_type": "stream",
     "text": [
      "Taux d'erreur NN = 6.4%\n"
     ]
    }
   ],
   "source": [
    "from sklearn.naive_bayes import BernoulliNB, GaussianNB, MultinomialNB\n",
    "\n",
    "\n",
    "bayes = BernoulliNB(binarize=0.0001)\n",
    "bayes.fit(X_train, y_train)\n",
    "y_predic = bayes.predict(X_test)\n",
    "\n",
    "\n",
    "\n",
    "nerr = (y_predic != y_test.ravel()).sum()\n",
    "\n",
    "print(\"Taux d'erreur NN = {:.1f}%\".format(100*nerr/y_test.shape[0]))\n"
   ]
  },
  {
   "cell_type": "markdown",
   "metadata": {
    "id": "5igyJiha1CRR"
   },
   "source": [
    "## Activité 2.2: Plus proche voisin"
   ]
  },
  {
   "cell_type": "markdown",
   "metadata": {
    "id": "34T2v5Wa1CRU"
   },
   "source": [
    "\n",
    "<div class=\"alert alert-block alert-info\">\n",
    "\n",
    "La bibliothèque scikit-learn propose une version de l'algorithme de classification par [k plus proches voisins](http://scikit-learn.org/stable/modules/generated/sklearn.neighbors.KNeighborsClassifier.html#sklearn.neighbors.KNeighborsClassifier) avec plusieurs paramétrages possibles.\n",
    "\n",
    "<br>\n",
    "Ecrivez la démarche générique d'apprentissage à partir cette bibliothèque, et testez plusieurs paramètres pour améliorer les performances. \n",
    "\n",
    "<br><br>\n",
    "ATTENTION: les calculs peuvent être plus longs que pour les exemples précédents (plusieurs dizaines de secondes). Une possibilité est de limiter la taille de la base de donnée pour sélectionner les bonnes configurations.\n",
    "<br>\n",
    "\n",
    "</div>"
   ]
  },
  {
   "cell_type": "code",
   "execution_count": 22,
   "metadata": {
    "colab": {
     "base_uri": "https://localhost:8080/"
    },
    "executionInfo": {
     "elapsed": 2106,
     "status": "ok",
     "timestamp": 1611769243571,
     "user": {
      "displayName": "王宇",
      "photoUrl": "",
      "userId": "14952779251471138120"
     },
     "user_tz": -60
    },
    "id": "zUQI8g-21CRV",
    "outputId": "2c016bc4-d959-43a8-9d13-09def7a85d69"
   },
   "outputs": [
    {
     "name": "stdout",
     "output_type": "stream",
     "text": [
      "Temps d'execution = 1.49 s\n",
      "Taux d'erreur NN = 30.3%\n"
     ]
    }
   ],
   "source": [
    "from sklearn.neighbors import KNeighborsClassifier\n",
    "import timeit\n",
    "\n",
    "tic = timeit.default_timer();  \n",
    "\n",
    "neigh = KNeighborsClassifier(n_neighbors=10, weights='distance', algorithm='brute')\n",
    "neigh.fit(X_train, y_train)\n",
    "y_predic = neigh.predict(X_test)\n",
    "\n",
    "\n",
    "\n",
    "\n",
    "toc = timeit.default_timer()\n",
    "print(\"Temps d'execution = {:.3g} s\".format(toc-tic))\n",
    "\n",
    "nerr = (y_predic != y_test.ravel()).sum()\n",
    "\n",
    "print(\"Taux d'erreur NN = {:.1f}%\".format(100*nerr/y_test.shape[0]))\n"
   ]
  }
 ],
 "metadata": {
  "colab": {
   "collapsed_sections": [],
   "name": "td1_knn_bayesien_2021.ipynb",
   "provenance": []
  },
  "kernelspec": {
   "display_name": "Python 3",
   "language": "python",
   "name": "python3"
  },
  "language_info": {
   "codemirror_mode": {
    "name": "ipython",
    "version": 3
   },
   "file_extension": ".py",
   "mimetype": "text/x-python",
   "name": "python",
   "nbconvert_exporter": "python",
   "pygments_lexer": "ipython3",
   "version": "3.8.5"
  }
 },
 "nbformat": 4,
 "nbformat_minor": 1
}
